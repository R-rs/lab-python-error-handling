{
 "cells": [
  {
   "cell_type": "markdown",
   "id": "25d7736c-ba17-4aff-b6bb-66eba20fbf4e",
   "metadata": {},
   "source": [
    "# Lab | Error Handling"
   ]
  },
  {
   "cell_type": "markdown",
   "id": "bc99b386-7508-47a0-bcdb-d969deaf6c8b",
   "metadata": {},
   "source": [
    "## Exercise: Error Handling for Managing Customer Orders\n",
    "\n",
    "The implementation of your code for managing customer orders assumes that the user will always enter a valid input. \n",
    "\n",
    "For example, we could modify the `initialize_inventory` function to include error handling.\n",
    "   - If the user enters an invalid quantity (e.g., a negative value or a non-numeric value), display an error message and ask them to re-enter the quantity for that product.\n",
    "   - Use a try-except block to handle the error and continue prompting the user until a valid quantity is entered.\n",
    "\n",
    "```python\n",
    "# Step 1: Define the function for initializing the inventory with error handling\n",
    "def initialize_inventory(products):\n",
    "    inventory = {}\n",
    "    for product in products:\n",
    "        valid_quantity = False\n",
    "        while not valid_quantity:\n",
    "            try:\n",
    "                quantity = int(input(f\"Enter the quantity of {product}s available: \"))\n",
    "                if quantity < 0:\n",
    "                    raise ValueError(\"Invalid quantity! Please enter a non-negative value.\")\n",
    "                valid_quantity = True\n",
    "            except ValueError as error:\n",
    "                print(f\"Error: {error}\")\n",
    "        inventory[product] = quantity\n",
    "    return inventory\n",
    "\n",
    "# Or, in another way:\n",
    "\n",
    "def initialize_inventory(products):\n",
    "    inventory = {}\n",
    "    for product in products:\n",
    "        valid_input = False\n",
    "        while not valid_input:\n",
    "            try:\n",
    "                quantity = int(input(f\"Enter the quantity of {product}s available: \"))\n",
    "                if quantity >= 0:\n",
    "                    inventory[product] = quantity\n",
    "                    valid_input = True\n",
    "                else:\n",
    "                    print(\"Quantity cannot be negative. Please enter a valid quantity.\")\n",
    "            except ValueError:\n",
    "                print(\"Invalid input. Please enter a valid quantity.\")\n",
    "    return inventory\n",
    "```\n",
    "\n",
    "Let's enhance your code by implementing error handling to handle invalid inputs.\n",
    "\n",
    "Follow the steps below to complete the exercise:\n",
    "\n",
    "2. Modify the `calculate_total_price` function to include error handling.\n",
    "   - If the user enters an invalid price (e.g., a negative value or a non-numeric value), display an error message and ask them to re-enter the price for that product.\n",
    "   - Use a try-except block to handle the error and continue prompting the user until a valid price is entered.\n",
    "\n",
    "3. Modify the `get_customer_orders` function to include error handling.\n",
    "   - If the user enters an invalid number of orders (e.g., a negative value or a non-numeric value), display an error message and ask them to re-enter the number of orders.\n",
    "   - If the user enters an invalid product name (e.g., a product name that is not in the inventory), or that doesn't have stock available, display an error message and ask them to re-enter the product name. *Hint: you will need to pass inventory as a parameter*\n",
    "   - Use a try-except block to handle the error and continue prompting the user until a valid product name is entered.\n",
    "\n",
    "4. Test your code by running the program and deliberately entering invalid quantities and product names. Make sure the error handling mechanism works as expected.\n"
   ]
  },
  {
   "cell_type": "code",
   "execution_count": 7,
   "id": "adc76fc8-bcb3-4474-acdc-698b4d07b8d6",
   "metadata": {},
   "outputs": [
    {
     "name": "stdin",
     "output_type": "stream",
     "text": [
      "Enter the quantity of t-shirts available waf\n"
     ]
    },
    {
     "name": "stdout",
     "output_type": "stream",
     "text": [
      "Invalid input. Please enter a valid quantity.\n"
     ]
    },
    {
     "name": "stdin",
     "output_type": "stream",
     "text": [
      "Enter the quantity of t-shirts available -2\n"
     ]
    },
    {
     "name": "stdout",
     "output_type": "stream",
     "text": [
      "Quantity cannot be negative. Please enter a valid quantity.\n"
     ]
    },
    {
     "name": "stdin",
     "output_type": "stream",
     "text": [
      "Enter the quantity of t-shirts available 5\n",
      "Enter the quantity of mugs available 4\n",
      "Enter the quantity of hats available 0\n",
      "Enter the quantity of books available 1\n",
      "Enter the quantity of keychains available 3\n"
     ]
    },
    {
     "name": "stdout",
     "output_type": "stream",
     "text": [
      "\n"
     ]
    },
    {
     "name": "stdin",
     "output_type": "stream",
     "text": [
      "Enter the number of customer orders:  fwe\n"
     ]
    },
    {
     "name": "stdout",
     "output_type": "stream",
     "text": [
      "Invalid input. Please enter a valid quantity.\n"
     ]
    },
    {
     "name": "stdin",
     "output_type": "stream",
     "text": [
      "Enter the number of customer orders:  -5\n"
     ]
    },
    {
     "name": "stdout",
     "output_type": "stream",
     "text": [
      "Value cannot be negative. Please enter a valid quantity.\n"
     ]
    },
    {
     "name": "stdin",
     "output_type": "stream",
     "text": [
      "Enter the number of customer orders:  3\n",
      "Enter the name of a product that a customer wants to order:  fwe\n"
     ]
    },
    {
     "name": "stdout",
     "output_type": "stream",
     "text": [
      "Non-existing item / Item unavailable. Re-enter the product you want to order.\n"
     ]
    },
    {
     "name": "stdin",
     "output_type": "stream",
     "text": [
      "Enter the name of a product that a customer wants to order:  hat\n"
     ]
    },
    {
     "name": "stdout",
     "output_type": "stream",
     "text": [
      "Non-existing item / Item unavailable. Re-enter the product you want to order.\n"
     ]
    },
    {
     "name": "stdin",
     "output_type": "stream",
     "text": [
      "Enter the name of a product that a customer wants to order:  book\n",
      "Enter the name of a product that a customer wants to order:  mug\n",
      "Enter the name of a product that a customer wants to order:  keychain\n"
     ]
    },
    {
     "name": "stdout",
     "output_type": "stream",
     "text": [
      "\n",
      "\n",
      "Order Statistics:\n",
      "Total Products Ordered: 3\n",
      "Percentage of Unique Products Ordered: 60.0%\n",
      "\n",
      "Updated Inventory:\n",
      "t-shirt: 5\n",
      "mug: 3\n",
      "keychain: 2\n"
     ]
    },
    {
     "name": "stdin",
     "output_type": "stream",
     "text": [
      "Enter the price of keychain:  10\n",
      "Enter the price of book:  12\n",
      "Enter the price of mug:  5\n"
     ]
    },
    {
     "name": "stdout",
     "output_type": "stream",
     "text": [
      "Total Price:  27.0\n"
     ]
    }
   ],
   "source": [
    "# 1 - Original products list\n",
    "products_list= [\"t-shirt\", \"mug\", \"hat\", \"book\", \"keychain\"]\n",
    "\n",
    "# 2 - Input inventory\n",
    "def initialize_inventory(products):\n",
    "    inventory = {}\n",
    "    # print(type(inventory))\n",
    "    \n",
    "    for product in products:\n",
    "        valid_input = False\n",
    "        while not valid_input:\n",
    "            try:\n",
    "                quantity = int(input(f\"Enter the quantity of {product}s available\"))\n",
    "                if quantity >= 0:\n",
    "                    inventory.update({product:quantity})\n",
    "                    valid_input = True\n",
    "                else:\n",
    "                    print(\"Quantity cannot be negative. Please enter a valid quantity.\")\n",
    "            except ValueError:\n",
    "                print(\"Invalid input. Please enter a valid quantity.\")\n",
    "\n",
    "    return inventory\n",
    "\n",
    "orig_inventory=initialize_inventory(products_list)\n",
    "#print(orig_inventory)\n",
    "\n",
    "print()\n",
    "\n",
    "# 3 - Customer orders\n",
    "def get_customer_orders(inventory):\n",
    "    \n",
    "    customer_orders = set()\n",
    "    user_intention = False\n",
    "\n",
    "    while not user_intention:\n",
    "        try:\n",
    "            amount_cust_orders = int(input(\"Enter the number of customer orders: \"))\n",
    "            if amount_cust_orders < 0:\n",
    "                print(\"Value cannot be negative. Please enter a valid quantity.\")\n",
    "            else:\n",
    "                user_intention = True\n",
    "        except ValueError:\n",
    "                print(\"Invalid input. Please enter a valid quantity.\")   \n",
    "   \n",
    "    for i in range(amount_cust_orders):\n",
    "        valid_input = False   \n",
    "        while not valid_input:\n",
    "            try: #This try-except block needs to be improved\n",
    "                item = str(input(\"Enter the name of a product that a customer wants to order: \"))\n",
    "                if item in inventory and inventory[item]>0:\n",
    "                    customer_orders.add(item)\n",
    "                    valid_input = True\n",
    "                else:\n",
    "                    print(\"Non-existing item / Item unavailable. Re-enter the product you want to order.\")\n",
    "\n",
    "            except ValueError:\n",
    "                print(\"Non-existing item. Re-enter the product you want to order.\") \n",
    "\n",
    "    return customer_orders\n",
    "\n",
    "\n",
    "orig_customer_orders=get_customer_orders(orig_inventory)\n",
    "# print(\"Customer Orders: \",orig_customer_orders)\n",
    "\n",
    "print()\n",
    "\n",
    "# 4 - Price of customer orders\n",
    "def total_price(customer_orders):\n",
    "    total_price=[]\n",
    "\n",
    "    for product in customer_orders:\n",
    "        valid_input = False\n",
    "        \n",
    "        while not valid_input:\n",
    "            try:\n",
    "                input_price=float(input(f\"Enter the price of {product}: \"))\n",
    "                if input_price <0:\n",
    "                    print(\"Value cannot be negative. Please enter a valid quantity.\")\n",
    "                else:\n",
    "                    total_price.append(input_price)\n",
    "                    valid_input = True\n",
    "            except ValueError:\n",
    "                print(\"Invalid input. Please enter a valid quantity.\")             \n",
    "    \n",
    "    return sum(total_price) \n",
    "\n",
    "\n",
    "print()\n",
    "\n",
    "# 5 - Update inventory\n",
    "upd_inventory=orig_inventory.copy()\n",
    "# if we hadn't created the \"upd_inventory\" copy of the \"orig_inventory\", it would automatically update the original inventory.\n",
    "#print(upd_inventory)\n",
    "\n",
    "def update_inventory(customer_orders,inventory):\n",
    "    # Updating inventory according to the customer orders\n",
    "    inventory = {key:value-1 if key in customer_orders else value for key, value in inventory.items()}\n",
    "    # Filtering the products that run out (value = 0)\n",
    "    inventory = {key:value for key, value in list(inventory.items()) if inventory[key] > 0}\n",
    "    \n",
    "    return inventory\n",
    "\n",
    "\n",
    "upd_inventory = update_inventory(orig_customer_orders,orig_inventory)\n",
    "# print(\"Original inventory: \",orig_inventory)\n",
    "# print(\"Updated inventory: \",upd_inventory)\n",
    "\n",
    "\n",
    "# 6 - Order Statistics\n",
    "def calculate_order_statistics(customer_orders,products):\n",
    "    percentage_order=len(customer_orders)/len(products)*100\n",
    "    return len(customer_orders),percentage_order\n",
    "\n",
    "upd_order_statistics=calculate_order_statistics(orig_customer_orders,orig_inventory)\n",
    "\n",
    "\n",
    "# 7 - Print order statistics\n",
    "def print_order_statistics(order_statistics):\n",
    "    print(f\"\"\"Order Statistics:\n",
    "Total Products Ordered: {order_statistics[0]}\n",
    "Percentage of Unique Products Ordered: {round(order_statistics[1],1)}%\"\"\")\n",
    "    \n",
    "print_order_stats=print_order_statistics(upd_order_statistics)\n",
    "\n",
    "print()\n",
    "\n",
    "# 8 - Print updated inventory\n",
    "def print_updated_inventory(inventory):\n",
    "   \n",
    "    print_updated=(\"Updated Inventory:\\n\" + \"\\n\".join(f\"{key}: {value}\" for key,value in inventory.items()))\n",
    "    return print_updated\n",
    "\n",
    "updated_inventory=print_updated_inventory(upd_inventory)\n",
    "print(updated_inventory)\n",
    "final_price=total_price(orig_customer_orders)\n",
    "print(\"Total Price: \",final_price)"
   ]
  },
  {
   "cell_type": "code",
   "execution_count": null,
   "id": "27879b4e-8835-48b9-9f6c-65b34967c52e",
   "metadata": {},
   "outputs": [],
   "source": []
  }
 ],
 "metadata": {
  "kernelspec": {
   "display_name": "Python 3 (ipykernel)",
   "language": "python",
   "name": "python3"
  },
  "language_info": {
   "codemirror_mode": {
    "name": "ipython",
    "version": 3
   },
   "file_extension": ".py",
   "mimetype": "text/x-python",
   "name": "python",
   "nbconvert_exporter": "python",
   "pygments_lexer": "ipython3",
   "version": "3.11.7"
  }
 },
 "nbformat": 4,
 "nbformat_minor": 5
}
